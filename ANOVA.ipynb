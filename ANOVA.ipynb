{
 "cells": [
  {
   "cell_type": "markdown",
   "metadata": {},
   "source": [
    "# ANOVA in Python\n",
    "\n",
    "ANOVA is a means of comparing the ratio of systematic variance to unsystematic variance in an experimental study. Variance is decomposed into total variance (SST), variance due to model (SSTR), and residual variance (SSE), and their relation is given by:\n",
    "\n",
    "$$\n",
    "SST = SSTR + SSE\n",
    "$$\n",
    "\n",
    "By dividing SSTR and SSE by their correspding degree of freedom, we can obtain their mean version: MSTR and MSE. The ration $F^* = \\frac{MSTR}{MSE}$ can be used to conduct F-test to test the equality of treatment means.\n",
    "\n",
    "A one-way ANOVA can be seen as a regression model, with a single categorical predictor variable. Suppose a single factor has $r$ levels (i.e. different treatments), then the equivalent linear regression model for the one-way ANOVA mode is:\n",
    "\n",
    "$$\n",
    "y_i = \\beta_0 + \\beta_1 x_{1i} + \\cdots + \\beta_{r-1} x_{(r-1)i} + e_i.\n",
    "$$\n",
    "\n",
    "That is we use dummy variables to code the predictor variable.\n",
    "\n",
    "The other two ways to represent the one-way ANOVA model are the cell mean model and the factor effect model:\n",
    "\n",
    "- cell mean model: $y_{ij} = \\mu_j + \\epsilon_{ij}$\n",
    "- factor effect model: $y_{ij} = \\mu_{\\cdot} + \\tau_j + \\epsilon_{ij}$\n",
    "\n",
    "As for all parametric tests the data need to be normally distributed (each groups data should be roughly normally distributed) for the F-statistic to be reliable. Each experimental condition should have roughly the same variance. the observations should be independent.\n",
    "\n",
    "**Data:**\n",
    "\n",
    "We use [Luis Zaman's](http://labfab.cc/) digital parasite data set.\n",
    "\n",
    "**Packages:**\n",
    "\n",
    "- pandas\n",
    "- scipy.stats\n",
    "- numpy"
   ]
  },
  {
   "cell_type": "code",
   "execution_count": 11,
   "metadata": {
    "collapsed": false
   },
   "outputs": [
    {
     "name": "stdout",
     "output_type": "stream",
     "text": [
      "     Virulence  Replicate  ShannonDiversity\n",
      "0          0.5          1          0.059262\n",
      "1          0.5          2          1.093600\n",
      "2          0.5          3          1.139390\n",
      "3          0.5          4          0.547651\n",
      "4          0.5          5          0.065928\n",
      "5          0.5          6          1.344330\n",
      "6          0.5          7          1.680480\n",
      "7          0.5          8          0.000000\n",
      "8          0.5          9          2.047680\n",
      "9          0.5         10          0.000000\n",
      "10         0.5         11          1.507140\n",
      "11         0.5         12          0.000000\n",
      "12         0.5         13          1.589810\n",
      "13         0.5         14          1.144800\n",
      "14         0.5         15          1.011190\n",
      "15         0.5         16          0.000000\n",
      "16         0.5         17          0.776665\n",
      "17         0.5         18          0.001749\n",
      "18         0.5         19          1.761200\n",
      "19         0.5         20          0.021091\n",
      "20         0.5         21          0.790915\n",
      "21         0.5         22          0.000000\n",
      "22         0.5         23          0.018866\n",
      "23         0.5         24          0.994268\n",
      "24         0.5         25          1.729620\n",
      "25         0.5         26          0.967537\n",
      "26         0.5         27          0.457318\n",
      "27         0.5         28          0.992525\n",
      "28         0.5         29          1.506640\n",
      "29         0.5         30          0.697241\n",
      "..         ...        ...               ...\n",
      "320        NaN         21          0.000000\n",
      "321        NaN         22          0.000000\n",
      "322        NaN         23          0.000000\n",
      "323        NaN         24          0.000000\n",
      "324        NaN         25          0.000000\n",
      "325        NaN         26          0.000000\n",
      "326        NaN         27          1.702720\n",
      "327        NaN         28          0.169556\n",
      "328        NaN         29          0.949750\n",
      "329        NaN         30          0.240084\n",
      "330        NaN         31          0.925913\n",
      "331        NaN         32          0.000000\n",
      "332        NaN         33          0.693356\n",
      "333        NaN         34          0.000000\n",
      "334        NaN         35          0.310170\n",
      "335        NaN         36          0.000000\n",
      "336        NaN         37          0.000000\n",
      "337        NaN         38          0.000000\n",
      "338        NaN         39          0.000000\n",
      "339        NaN         40          0.000000\n",
      "340        NaN         41          0.000000\n",
      "341        NaN         42          0.000000\n",
      "342        NaN         43          0.000000\n",
      "343        NaN         44          0.000000\n",
      "344        NaN         45          0.391061\n",
      "345        NaN         46          0.001669\n",
      "346        NaN         47          0.000000\n",
      "347        NaN         48          0.444463\n",
      "348        NaN         49          0.383512\n",
      "349        NaN         50          0.511329\n",
      "\n",
      "[350 rows x 3 columns]\n"
     ]
    }
   ],
   "source": [
    "%matplotlib inline\n",
    "\n",
    "import pandas as pd\n",
    "\n",
    "# Read csv data as pandas DataFrame.\n",
    "# We must specify that blank space \" \" in the dataset as NaN (missing value)\n",
    "df = pd.read_csv(\"data/parasite_data.csv\", na_values=[\" \"])\n",
    "\n",
    "print df"
   ]
  },
  {
   "cell_type": "code",
   "execution_count": 13,
   "metadata": {
    "collapsed": false
   },
   "outputs": [
    {
     "data": {
      "text/plain": [
       "<matplotlib.axes._subplots.AxesSubplot at 0x114f5c690>"
      ]
     },
     "execution_count": 13,
     "metadata": {},
     "output_type": "execute_result"
    },
    {
     "data": {
      "image/png": "[encoded data removed]",
      "text/plain": [
       "<matplotlib.figure.Figure at 0x114f71610>"
      ]
     },
     "metadata": {},
     "output_type": "display_data"
    }
   ],
   "source": [
    "import seaborn as sns\n",
    "\n",
    "sns.distplot(df['Virulence'].dropna(), kde=False)"
   ]
  },
  {
   "cell_type": "markdown",
   "metadata": {},
   "source": [
    "Ploting the histogram shows that there are only six distinct values in the column of Virulence."
   ]
  },
  {
   "cell_type": "code",
   "execution_count": 14,
   "metadata": {
    "collapsed": true
   },
   "outputs": [],
   "source": [
    "treatment1 = df[df['Virulence'] == 0.7][\"ShannonDiversity\"]\n",
    "treatment2 = df[df['Virulence'] == 0.8][\"ShannonDiversity\"]\n",
    "treatment3 = df[df['Virulence'] == 0.9][\"ShannonDiversity\"]"
   ]
  },
  {
   "cell_type": "markdown",
   "metadata": {},
   "source": [
    "Virulence is considered as a factor and each level of Virulence is considered as a treatment. Here we choose 0.7, 0.8, and 0.9 as three treatments."
   ]
  },
  {
   "cell_type": "code",
   "execution_count": 56,
   "metadata": {
    "collapsed": false
   },
   "outputs": [],
   "source": [
    "# Prepare the subset data as a pandas DataFrame\n",
    "\n",
    "anova_df = pd.concat([pd.DataFrame({'ShannonDiversity': treatment1.values, \n",
    "                                    'level': ['trt1']*len(treatment1)}),\n",
    "                      pd.DataFrame({'ShannonDiversity': treatment2.values, \n",
    "                                    'level': ['trt2']*len(treatment2)}),\n",
    "                      pd.DataFrame({'ShannonDiversity': treatment3.values, \n",
    "                                    'level': ['trt3']*len(treatment3)})])\n"
   ]
  },
  {
   "cell_type": "code",
   "execution_count": 57,
   "metadata": {
    "collapsed": false
   },
   "outputs": [
    {
     "data": {
      "text/plain": [
       "<matplotlib.axes._subplots.AxesSubplot at 0x118868f10>"
      ]
     },
     "execution_count": 57,
     "metadata": {},
     "output_type": "execute_result"
    },
    {
     "data": {
      "image/png": "[encoded data removed]",
      "text/plain": [
       "<matplotlib.figure.Figure at 0x114f3ff90>"
      ]
     },
     "metadata": {},
     "output_type": "display_data"
    }
   ],
   "source": [
    "# Create boxplots for each treatment\n",
    "\n",
    "anova_df.boxplot('ShannonDiversity', by='level')"
   ]
  },
  {
   "cell_type": "markdown",
   "metadata": {},
   "source": [
    "Judging by the Boxplot, there is not much difference in the means of ShannonDiversity for the three treatments."
   ]
  },
  {
   "cell_type": "code",
   "execution_count": 58,
   "metadata": {
    "collapsed": false
   },
   "outputs": [
    {
     "name": "stdout",
     "output_type": "stream",
     "text": [
      "One-way ANOVA P = 0.381509481874\n"
     ]
    }
   ],
   "source": [
    "# Compute One-way ANOVA p-value\n",
    "\n",
    "from scipy import stats\n",
    "\n",
    "fval, pval = stats.f_oneway(treatment1, treatment2, treatment3)\n",
    "print \"One-way ANOVA P =\", pval"
   ]
  },
  {
   "cell_type": "markdown",
   "metadata": {},
   "source": [
    "If p-value > 0.05, we can claim with high confidence that the means of the ShannonDiversity from the three treatments are not significantly different."
   ]
  },
  {
   "cell_type": "code",
   "execution_count": 64,
   "metadata": {
    "collapsed": true
   },
   "outputs": [],
   "source": [
    "# Degrees of Freedom\n",
    "r = len(pd.unique(anova_df.level))  # number of treatments\n",
    "N = len(anova_df.values)  # total sample size\n",
    "n = anova_df.groupby('level').size()[0]  # sample size in each treatment (equal size)"
   ]
  },
  {
   "cell_type": "code",
   "execution_count": 65,
   "metadata": {
    "collapsed": false
   },
   "outputs": [],
   "source": [
    "DFbetween = r - 1\n",
    "DFwithin = N - r\n",
    "DFtotal = N - 1"
   ]
  },
  {
   "cell_type": "code",
   "execution_count": 68,
   "metadata": {
    "collapsed": true
   },
   "outputs": [],
   "source": [
    "# Calculate different Sum of Squares\n",
    "m1 = treatment1.mean()\n",
    "m2 = treatment2.mean()\n",
    "m3 = treatment3.mean()\n",
    "m = anova_df.ShannonDiversity.mean()"
   ]
  },
  {
   "cell_type": "code",
   "execution_count": 85,
   "metadata": {
    "collapsed": false
   },
   "outputs": [
    {
     "name": "stdout",
     "output_type": "stream",
     "text": [
      "SSTO = 80.6539\n",
      "SSE = 79.6034\n",
      "SSTR = 1.0505\n"
     ]
    }
   ],
   "source": [
    "import numpy as np\n",
    "\n",
    "SSTR = n*(m1 - m)**2 + n*(m2 - m)**2 + n*(m3 - m)**2\n",
    "SSE = sum((anova_df['ShannonDiversity'] - np.repeat([m1, m2, m3], n))**2)\n",
    "SSTO = sum((anova_df['ShannonDiversity'] - m)**2)\n",
    "\n",
    "print \"SSTO = %.04f\" % SST\n",
    "print \"SSE = %.04f\" % SSE\n",
    "print \"SSTR = %.04f\" % SSTR"
   ]
  },
  {
   "cell_type": "code",
   "execution_count": 86,
   "metadata": {
    "collapsed": false
   },
   "outputs": [],
   "source": [
    "# Calcualte Mean Sum of Squares\n",
    "\n",
    "MSTR = SSTR / DFbetween\n",
    "MSE = SSE / DFwithin\n",
    "MSTO = SSTO / DFtotal"
   ]
  },
  {
   "cell_type": "code",
   "execution_count": 92,
   "metadata": {
    "collapsed": false
   },
   "outputs": [
    {
     "data": {
      "text/plain": [
       "0.96996402324598718"
      ]
     },
     "execution_count": 92,
     "metadata": {},
     "output_type": "execute_result"
    }
   ],
   "source": [
    "# Calculate the F-test statistic\n",
    "F = MSTR / MSE\n",
    "F"
   ]
  },
  {
   "cell_type": "code",
   "execution_count": 93,
   "metadata": {
    "collapsed": false
   },
   "outputs": [
    {
     "data": {
      "text/plain": [
       "0.38150948187409939"
      ]
     },
     "execution_count": 93,
     "metadata": {},
     "output_type": "execute_result"
    }
   ],
   "source": [
    "pval = stats.f.sf(F, DFbetween, DFwithin)\n",
    "pval"
   ]
  },
  {
   "cell_type": "code",
   "execution_count": 96,
   "metadata": {
    "collapsed": false
   },
   "outputs": [
    {
     "data": {
      "text/plain": [
       "0.013024902535782201"
      ]
     },
     "execution_count": 96,
     "metadata": {},
     "output_type": "execute_result"
    }
   ],
   "source": [
    "# Calculate effect size (perctage of the total variance explained by model)\n",
    "\n",
    "eta_sqrd = SSTR / SSTO\n",
    "eta_sqrd"
   ]
  },
  {
   "cell_type": "code",
   "execution_count": 98,
   "metadata": {
    "collapsed": false
   },
   "outputs": [
    {
     "data": {
      "text/plain": [
       "-0.00040064013829190924"
      ]
     },
     "execution_count": 98,
     "metadata": {},
     "output_type": "execute_result"
    }
   ],
   "source": [
    "om_sqrd = (SSTR - (DFbetween * MSE))/(SSTO + MSE)\n",
    "om_sqrd"
   ]
  },
  {
   "cell_type": "code",
   "execution_count": null,
   "metadata": {
    "collapsed": true
   },
   "outputs": [],
   "source": []
  }
 ],
 "metadata": {
  "anaconda-cloud": {},
  "kernelspec": {
   "display_name": "Python [default]",
   "language": "python",
   "name": "python2"
  },
  "language_info": {
   "codemirror_mode": {
    "name": "ipython",
    "version": 2
   },
   "file_extension": ".py",
   "mimetype": "text/x-python",
   "name": "python",
   "nbconvert_exporter": "python",
   "pygments_lexer": "ipython2",
   "version": "2.7.12"
  }
 },
 "nbformat": 4,
 "nbformat_minor": 1
}
