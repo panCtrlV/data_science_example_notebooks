{
 "cells": [
  {
   "cell_type": "markdown",
   "metadata": {},
   "source": [
    "# Tutorial: Elastic Net\n",
    "\n",
    "**Lasso**\n",
    "\n",
    "- L1 regularization\n",
    "- Learned using coordinate descent algorithm\n",
    "- Perform both shrinkage and variable selection\n",
    "- Not stable in front of correlated predictor variables (randomly one variable from those which are correlated)\n",
    "\n",
    "**Elastic Net**\n",
    "\n",
    "- Linear regression with combined L1 and L2 priors as regularizer.\n",
    "- ElasticNet will tend to select more variables hence lead to larger models\n",
    "- More expensive to train\n",
    "- The result model is more stable in front of correlated predictor variables, better generalization.\n",
    "\n",
    "\n",
    "Reference: \n",
    "\n",
    "- http://scikit-learn.org/stable/auto_examples/linear_model/plot_lasso_and_elasticnet.html#sphx-glr-auto-examples-linear-model-plot-lasso-and-elasticnet-py"
   ]
  },
  {
   "cell_type": "code",
   "execution_count": 2,
   "metadata": {
    "collapsed": true
   },
   "outputs": [],
   "source": [
    "%matplotlib inline\n",
    "\n",
    "import numpy as np\n",
    "import matplotlib.pyplot as plt\n",
    "from sklearn.metrics import r2_score"
   ]
  },
  {
   "cell_type": "code",
   "execution_count": 9,
   "metadata": {
    "collapsed": false
   },
   "outputs": [],
   "source": [
    "# Simluate data\n",
    "\n",
    "np.random.seed(42)\n",
    "n_samples, n_features = 50, 200  # p>n\n",
    "\n",
    "# Features\n",
    "X = np.random.randn(n_samples, n_features)\n",
    "\n",
    "# sparsify coef\n",
    "coef = 3 * np.random.randn(n_features)\n",
    "inds = np.arange(n_features)\n",
    "np.random.shuffle(inds)\n",
    "coef[inds[10:]] = 0\n",
    "\n",
    "# generate response\n",
    "y = np.dot(X, coef)\n",
    "y += 0.01 * np.random.normal((n_samples,))\n",
    "\n",
    "# Split data in train set and test set (half-half)\n",
    "n_samples = X.shape[0]\n",
    "X_train, y_train = X[:n_samples / 2], y[:n_samples / 2]\n",
    "X_test, y_test = X[n_samples / 2:], y[n_samples / 2:]"
   ]
  },
  {
   "cell_type": "code",
   "execution_count": 10,
   "metadata": {
    "collapsed": false
   },
   "outputs": [],
   "source": [
    "from sklearn.linear_model import ElasticNet"
   ]
  },
  {
   "cell_type": "markdown",
   "metadata": {},
   "source": [
    "**Implementation in Sklearn**\n",
    "\n",
    "Minimize: Object = LS_loss + $\\alpha$ $\\times$ l1_ratio $\\times$ L1 + $\\frac{1}{2} \\times \\alpha$ $\\times$ (1-l1_ratio) $\\times$ L2"
   ]
  },
  {
   "cell_type": "code",
   "execution_count": 12,
   "metadata": {
    "collapsed": false
   },
   "outputs": [
    {
     "name": "stdout",
     "output_type": "stream",
     "text": [
      "ElasticNet(alpha=0.1, copy_X=True, fit_intercept=True, l1_ratio=0.7,\n",
      "      max_iter=1000, normalize=False, positive=False, precompute=False,\n",
      "      random_state=None, selection='cyclic', tol=0.0001, warm_start=False)\n",
      "r^2 on test data : 0.240176\n"
     ]
    }
   ],
   "source": [
    "alpha = 0.1\n",
    "enet = ElasticNet(alpha=alpha, l1_ratio=0.7)\n",
    "enet.fit(X_train, y_train)\n",
    "y_pred_enet = enet.predict(X_test)\n",
    "r2_score_enet = r2_score(y_test, y_pred_enet)\n",
    "\n",
    "print(enet)\n",
    "print(\"r^2 on test data : %f\" % r2_score_enet)"
   ]
  },
  {
   "cell_type": "code",
   "execution_count": 18,
   "metadata": {
    "collapsed": false
   },
   "outputs": [
    {
     "data": {
      "text/plain": [
       "<matplotlib.legend.Legend at 0x1176b2dd0>"
      ]
     },
     "execution_count": 18,
     "metadata": {},
     "output_type": "execute_result"
    },
    {
     "data": {
      "image/png": "[encoded data removed]",
      "text/plain": [
       "<matplotlib.figure.Figure at 0x117566b10>"
      ]
     },
     "metadata": {},
     "output_type": "display_data"
    }
   ],
   "source": [
    "fig = plt.figure(figsize=(10, 5))\n",
    "plt.plot(enet.coef_, color='lightgreen', linewidth=2,\n",
    "         label='Elastic net coefficients')\n",
    "plt.plot(coef, '--', color='yellow', label='original coefficients')\n",
    "plt.legend(loc='best')"
   ]
  },
  {
   "cell_type": "code",
   "execution_count": null,
   "metadata": {
    "collapsed": true
   },
   "outputs": [],
   "source": []
  }
 ],
 "metadata": {
  "kernelspec": {
   "display_name": "Python [default]",
   "language": "python",
   "name": "python2"
  },
  "language_info": {
   "codemirror_mode": {
    "name": "ipython",
    "version": 2
   },
   "file_extension": ".py",
   "mimetype": "text/x-python",
   "name": "python",
   "nbconvert_exporter": "python",
   "pygments_lexer": "ipython2",
   "version": "2.7.13"
  }
 },
 "nbformat": 4,
 "nbformat_minor": 2
}
